{
 "cells": [
  {
   "cell_type": "code",
   "execution_count": 1,
   "metadata": {},
   "outputs": [],
   "source": [
    "import requests\n",
    "import os\n",
    "import random"
   ]
  },
  {
   "cell_type": "code",
   "execution_count": 2,
   "metadata": {},
   "outputs": [],
   "source": [
    "def buscar_imagenes(query, cantidad):\n",
    "    key = os.environ.get(\"UNSPLASH_API_KEY\")\n",
    "    url = f\"https://api.unsplash.com/photos/random/?query={query}&count={cantidad}&client_id={key}\"\n",
    "    respuesta = requests.get(url)\n",
    "    if respuesta.status_code == 200:\n",
    "        return respuesta.json()\n",
    "    else:\n",
    "        print(\"Error al buscar imágenes:\", respuesta.text)\n",
    "        return None"
   ]
  },
  {
   "cell_type": "code",
   "execution_count": 4,
   "metadata": {},
   "outputs": [],
   "source": [
    "def descargar_imagenes(imagenes, carpeta_destino):\n",
    "    if not os.path.exists(carpeta_destino):\n",
    "        os.makedirs(carpeta_destino)\n",
    "    for i, imagen in enumerate(imagenes):\n",
    "        url = imagen['urls']['full']\n",
    "        nombre_archivo = os.path.join(carpeta_destino, f\"imagen_{i+1}.jpg\")\n",
    "        try:\n",
    "            with open(nombre_archivo, 'wb') as archivo:\n",
    "                respuesta = requests.get(url)\n",
    "                archivo.write(respuesta.content)\n",
    "            print(f\"Imagen {nombre_archivo} descargada correctamente.\")\n",
    "        except Exception as e:\n",
    "            print(f\"Error al descargar la imagen {nombre_archivo}: {e}\")"
   ]
  },
  {
   "cell_type": "code",
   "execution_count": 5,
   "metadata": {},
   "outputs": [
    {
     "name": "stdout",
     "output_type": "stream",
     "text": [
      "Imagen imagenes\\imagen_1.jpg descargada correctamente.\n",
      "Imagen imagenes\\imagen_2.jpg descargada correctamente.\n",
      "Imagen imagenes\\imagen_3.jpg descargada correctamente.\n",
      "Imagen imagenes\\imagen_4.jpg descargada correctamente.\n"
     ]
    }
   ],
   "source": [
    "query = input(\"Ingrese el término de búsqueda para las imágenes: \")\n",
    "cantidad = int(input(\"Ingrese la cantidad de imágenes que desea descargar: \"))\n",
    "imagenes = buscar_imagenes(query, cantidad)\n",
    "if imagenes:\n",
    "    carpeta_destino = \"imagenes\"\n",
    "    descargar_imagenes(imagenes, carpeta_destino)"
   ]
  }
 ],
 "metadata": {
  "kernelspec": {
   "display_name": "env",
   "language": "python",
   "name": "python3"
  },
  "language_info": {
   "codemirror_mode": {
    "name": "ipython",
    "version": 3
   },
   "file_extension": ".py",
   "mimetype": "text/x-python",
   "name": "python",
   "nbconvert_exporter": "python",
   "pygments_lexer": "ipython3",
   "version": "3.11.9"
  }
 },
 "nbformat": 4,
 "nbformat_minor": 2
}
