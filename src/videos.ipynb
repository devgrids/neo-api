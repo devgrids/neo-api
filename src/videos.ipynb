{
 "cells": [
  {
   "cell_type": "code",
   "execution_count": 1,
   "metadata": {},
   "outputs": [],
   "source": [
    "import requests\n",
    "import os"
   ]
  },
  {
   "cell_type": "code",
   "execution_count": 2,
   "metadata": {},
   "outputs": [],
   "source": [
    "def buscar_videos(query, cantidad):\n",
    "    url = f\"https://api.pexels.com/videos/search?query={query}&per_page={cantidad}\"\n",
    "    headers = {\"Authorization\": os.environ.get(\"PEXEL_API_KEY\")}\n",
    "    respuesta = requests.get(url, headers=headers)\n",
    "    if respuesta.status_code == 200:\n",
    "        return respuesta.json()['videos']\n",
    "    else:\n",
    "        print(\"Error al buscar videos:\", respuesta.text)\n",
    "        return None"
   ]
  },
  {
   "cell_type": "code",
   "execution_count": 3,
   "metadata": {},
   "outputs": [],
   "source": [
    "def descargar_videos(videos, carpeta_destino):\n",
    "    if not os.path.exists(carpeta_destino):\n",
    "        os.makedirs(carpeta_destino)\n",
    "    for i, video in enumerate(videos):\n",
    "        url = video['video_files'][0]['link']\n",
    "        nombre_archivo = os.path.join(carpeta_destino, f\"video_{i+1}.mp4\")\n",
    "        try:\n",
    "            with open(nombre_archivo, 'wb') as archivo:\n",
    "                respuesta = requests.get(url)\n",
    "                archivo.write(respuesta.content)\n",
    "            print(f\"Video {nombre_archivo} descargado correctamente.\")\n",
    "        except Exception as e:\n",
    "            print(f\"Error al descargar el video {nombre_archivo}: {e}\")"
   ]
  },
  {
   "cell_type": "code",
   "execution_count": 4,
   "metadata": {},
   "outputs": [
    {
     "name": "stdout",
     "output_type": "stream",
     "text": [
      "Video videos\\video_1.mp4 descargado correctamente.\n",
      "Video videos\\video_2.mp4 descargado correctamente.\n"
     ]
    }
   ],
   "source": [
    "query = input(\"Ingrese el término de búsqueda para los videos: \")\n",
    "cantidad = int(input(\"Ingrese la cantidad de videos que desea descargar: \"))\n",
    "videos = buscar_videos(query, cantidad)\n",
    "if videos:\n",
    "    carpeta_destino = \"videos\"\n",
    "    descargar_videos(videos, carpeta_destino)"
   ]
  }
 ],
 "metadata": {
  "kernelspec": {
   "display_name": "env",
   "language": "python",
   "name": "python3"
  },
  "language_info": {
   "codemirror_mode": {
    "name": "ipython",
    "version": 3
   },
   "file_extension": ".py",
   "mimetype": "text/x-python",
   "name": "python",
   "nbconvert_exporter": "python",
   "pygments_lexer": "ipython3",
   "version": "3.11.9"
  }
 },
 "nbformat": 4,
 "nbformat_minor": 2
}
